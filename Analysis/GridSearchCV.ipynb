{
 "cells": [
  {
   "cell_type": "markdown",
   "id": "08d9cfba-27dc-4327-b0fc-ae7b42defdfd",
   "metadata": {},
   "source": [
    "1. 1개의 포인트가 59정도인 경우 제거?\n",
    "2. 65, 60, 55 3개의 저혈압 포인트\n",
    "그룹을 다양하게\n",
    "\n",
    "전처리를 좀더 빡빡하게\n",
    "튀는 값이 혹시라도 저혈압 구간을 부풀리지 않는지"
   ]
  },
  {
   "cell_type": "code",
   "execution_count": 1,
   "id": "2e9b4ddd-a624-40c1-99d5-dc60f0ddd0d6",
   "metadata": {},
   "outputs": [],
   "source": [
    "import os\n",
    "import pandas as pd\n",
    "from sklearn import model_selection\n",
    "from sklearn.ensemble import RandomForestClassifier\n",
    "from sklearn.ensemble import GradientBoostingClassifier\n",
    "import xgboost\n",
    "from xgboost import XGBClassifier\n",
    "import dask.dataframe as dd\n",
    "from dask_cuda import LocalCUDACluster\n",
    "from dask.distributed import Client\n",
    "import xgboost as xgb\n",
    "from xgboost import dask as dxgb\n",
    "from sklearn.model_selection import GridSearchCV\n",
    "from sklearn.model_selection import train_test_split\n",
    "from sklearn.preprocessing import StandardScaler\n",
    "import dask.array as da\n",
    "from sklearn import svm, datasets\n",
    "import dask_ml.model_selection as dcv"
   ]
  },
  {
   "cell_type": "code",
   "execution_count": 2,
   "id": "cbcd8644-73d6-47bf-80a4-a5869e4bef92",
   "metadata": {},
   "outputs": [
    {
     "name": "stdout",
     "output_type": "stream",
     "text": [
      "Index(['ASA', 'Sex', 'Age', 'HT', 'WT', 'BMI', 'rdw', 'mpv', 'pdw', 'e_alc',\n",
      "       'e_neutro', 'na', 'alp', 'tc', 'egfr_ce', 'egfr_md', 'icteric_index',\n",
      "       'wbc', 'rbc', 'mcv', 'mch', 'mchc', 'e_lympho', 'e_baso', 'ig', 'plt',\n",
      "       'hb', 'hct', 'pt_sec', 'pt_inr', 'aptt', 'k', 'cl', 'ca', 'glu', 'cr',\n",
      "       'bun', 'ast', 'alt', 'tp', 'ua', 'tco2', 'bilirubin', 'crp', 'alb',\n",
      "       'mono', 'e_anc', 'EMOP', 'induc_propofol', 'induc_midazolam',\n",
      "       'induc_pentotal', 'Desflurane', 'Sevoflurane', 'Propofol', 'WARD_SBP',\n",
      "       'WARD_DBP', 'WARD_MBP', 'Pre-induction_SBP', 'Pre-induction_DBP',\n",
      "       'Pre-induction_MBP', 'Hypotension', 'Hypotension_Area', 'PIH_Gr',\n",
      "       'PIH_Gr1', 'PIH_Gr2', 'PIH_Gr3', 'Hypotension_Time(minute)', 'MBP_Max',\n",
      "       'MBP_Mean', 'MBP_Min', 'area_time'],\n",
      "      dtype='object')\n"
     ]
    }
   ],
   "source": [
    "datapath= '/home/wlsdud022/data/6d007e8d-0f03-45ed-bd30-f7c6de906ac0/project_data/project_data/EMR/jy/Post-induction/Input_preprocessing/'\n",
    "df_pih = pd.read_csv(os.path.join(datapath,'PIH_input_new.csv'))\n",
    "\n",
    "del df_pih['OP_CODE']\n",
    "del df_pih['OPID']\n",
    "\n",
    "print(df_pih.keys())"
   ]
  },
  {
   "cell_type": "code",
   "execution_count": 3,
   "id": "6b819f08-9758-411e-8435-7139c69f855c",
   "metadata": {},
   "outputs": [],
   "source": [
    "var_list = ['Sex','Age','HT','WT','BMI','rdw','mpv','pdw','na','alp','tc','egfr_ce','egfr_md','icteric_index','wbc','rbc','mcv','mch','mchc','plt','hb','hct','pt_sec','pt_inr','aptt','k','cl','ca','glu','cr','bun','ast','alt','tp','ua','tco2','bilirubin','crp','alb','EMOP','induc_propofol','induc_midazolam','induc_pentotal','Desflurane','Sevoflurane','Propofol','WARD_SBP','WARD_DBP','WARD_MBP','Pre-induction_SBP','Pre-induction_DBP','Pre-induction_MBP']\n",
    "demo_list = ['Sex','Age','HT','WT','BMI']\n",
    "preoplab_list = ['rdw','mpv','pdw','na','alp','tc','egfr_ce','egfr_md','icteric_index','wbc','rbc','mcv','mch','mchc','plt','hb','hct','pt_sec','pt_inr','aptt','k','cl','ca','glu','cr','bun','ast','alt','tp','ua','tco2','bilirubin','crp','alb']\n",
    "anesthetics_list = ['induc_propofol','induc_midazolam','induc_pentotal','Desflurane','Sevoflurane','Propofol']\n",
    "bp_list = ['WARD_SBP','WARD_DBP','WARD_MBP','Pre-induction_SBP','Pre-induction_DBP','Pre-induction_MBP']\n",
    "pat_bp_list = ['WT','HT','Age','Sex','ASA','WARD_SBP','WARD_DBP','WARD_MBP','Pre-induction_SBP','Pre-induction_DBP','Pre-induction_MBP']\n",
    "\n",
    "y_pih = df_pih['Hypotension']\n",
    "y_pihm = df_pih['PIH_Gr']\n",
    "y_pih1 = df_pih['PIH_Gr1']\n",
    "y_pih2 = df_pih['PIH_Gr2']\n",
    "y_pih3 = df_pih['PIH_Gr3']"
   ]
  },
  {
   "cell_type": "code",
   "execution_count": 5,
   "id": "fe261faa-3084-44a8-aa45-ca9c555ddcea",
   "metadata": {},
   "outputs": [
    {
     "name": "stderr",
     "output_type": "stream",
     "text": [
      "/home/wlsdud022/.local/lib/python3.8/site-packages/distributed/node.py:182: UserWarning: Port 8787 is already in use.\n",
      "Perhaps you already have a cluster running?\n",
      "Hosting the HTTP server on port 33787 instead\n",
      "  warnings.warn(\n",
      "2023-08-31 13:55:13,546 - distributed.preloading - INFO - Creating preload: dask_cuda.initialize\n",
      "2023-08-31 13:55:13,546 - distributed.preloading - INFO - Import preload module: dask_cuda.initialize\n",
      "2023-08-31 13:55:13,563 - distributed.preloading - INFO - Creating preload: dask_cuda.initialize\n",
      "2023-08-31 13:55:13,563 - distributed.preloading - INFO - Import preload module: dask_cuda.initialize\n",
      "2023-08-31 13:55:13,633 - distributed.preloading - INFO - Creating preload: dask_cuda.initialize\n",
      "2023-08-31 13:55:13,633 - distributed.preloading - INFO - Import preload module: dask_cuda.initialize\n"
     ]
    },
    {
     "data": {
      "text/html": [
       "<style>#sk-container-id-1 {color: black;}#sk-container-id-1 pre{padding: 0;}#sk-container-id-1 div.sk-toggleable {background-color: white;}#sk-container-id-1 label.sk-toggleable__label {cursor: pointer;display: block;width: 100%;margin-bottom: 0;padding: 0.3em;box-sizing: border-box;text-align: center;}#sk-container-id-1 label.sk-toggleable__label-arrow:before {content: \"▸\";float: left;margin-right: 0.25em;color: #696969;}#sk-container-id-1 label.sk-toggleable__label-arrow:hover:before {color: black;}#sk-container-id-1 div.sk-estimator:hover label.sk-toggleable__label-arrow:before {color: black;}#sk-container-id-1 div.sk-toggleable__content {max-height: 0;max-width: 0;overflow: hidden;text-align: left;background-color: #f0f8ff;}#sk-container-id-1 div.sk-toggleable__content pre {margin: 0.2em;color: black;border-radius: 0.25em;background-color: #f0f8ff;}#sk-container-id-1 input.sk-toggleable__control:checked~div.sk-toggleable__content {max-height: 200px;max-width: 100%;overflow: auto;}#sk-container-id-1 input.sk-toggleable__control:checked~label.sk-toggleable__label-arrow:before {content: \"▾\";}#sk-container-id-1 div.sk-estimator input.sk-toggleable__control:checked~label.sk-toggleable__label {background-color: #d4ebff;}#sk-container-id-1 div.sk-label input.sk-toggleable__control:checked~label.sk-toggleable__label {background-color: #d4ebff;}#sk-container-id-1 input.sk-hidden--visually {border: 0;clip: rect(1px 1px 1px 1px);clip: rect(1px, 1px, 1px, 1px);height: 1px;margin: -1px;overflow: hidden;padding: 0;position: absolute;width: 1px;}#sk-container-id-1 div.sk-estimator {font-family: monospace;background-color: #f0f8ff;border: 1px dotted black;border-radius: 0.25em;box-sizing: border-box;margin-bottom: 0.5em;}#sk-container-id-1 div.sk-estimator:hover {background-color: #d4ebff;}#sk-container-id-1 div.sk-parallel-item::after {content: \"\";width: 100%;border-bottom: 1px solid gray;flex-grow: 1;}#sk-container-id-1 div.sk-label:hover label.sk-toggleable__label {background-color: #d4ebff;}#sk-container-id-1 div.sk-serial::before {content: \"\";position: absolute;border-left: 1px solid gray;box-sizing: border-box;top: 0;bottom: 0;left: 50%;z-index: 0;}#sk-container-id-1 div.sk-serial {display: flex;flex-direction: column;align-items: center;background-color: white;padding-right: 0.2em;padding-left: 0.2em;position: relative;}#sk-container-id-1 div.sk-item {position: relative;z-index: 1;}#sk-container-id-1 div.sk-parallel {display: flex;align-items: stretch;justify-content: center;background-color: white;position: relative;}#sk-container-id-1 div.sk-item::before, #sk-container-id-1 div.sk-parallel-item::before {content: \"\";position: absolute;border-left: 1px solid gray;box-sizing: border-box;top: 0;bottom: 0;left: 50%;z-index: -1;}#sk-container-id-1 div.sk-parallel-item {display: flex;flex-direction: column;z-index: 1;position: relative;background-color: white;}#sk-container-id-1 div.sk-parallel-item:first-child::after {align-self: flex-end;width: 50%;}#sk-container-id-1 div.sk-parallel-item:last-child::after {align-self: flex-start;width: 50%;}#sk-container-id-1 div.sk-parallel-item:only-child::after {width: 0;}#sk-container-id-1 div.sk-dashed-wrapped {border: 1px dashed gray;margin: 0 0.4em 0.5em 0.4em;box-sizing: border-box;padding-bottom: 0.4em;background-color: white;}#sk-container-id-1 div.sk-label label {font-family: monospace;font-weight: bold;display: inline-block;line-height: 1.2em;}#sk-container-id-1 div.sk-label-container {text-align: center;}#sk-container-id-1 div.sk-container {/* jupyter's `normalize.less` sets `[hidden] { display: none; }` but bootstrap.min.css set `[hidden] { display: none !important; }` so we also need the `!important` here to be able to override the default hidden behavior on the sphinx rendered scikit-learn.org. See: https://github.com/scikit-learn/scikit-learn/issues/21755 */display: inline-block !important;position: relative;}#sk-container-id-1 div.sk-text-repr-fallback {display: none;}</style><div id=\"sk-container-id-1\" class=\"sk-top-container\"><div class=\"sk-text-repr-fallback\"><pre>XGBClassifier(alpha=[0, 1, 5], base_score=None, booster=None, callbacks=None,\n",
       "              colsample_bylevel=None, colsample_bynode=None,\n",
       "              colsample_bytree=[0.5, 1.0], early_stopping_rounds=None,\n",
       "              enable_categorical=False, eval_metric=None, feature_types=None,\n",
       "              gamma=[0.5, 1, 2], gpu_id=1, grow_policy=None,\n",
       "              importance_type=None, interaction_constraints=None,\n",
       "              lambda=[0, 1, 5], learning_rate=[0.1], max_bin=None,\n",
       "              max_cat_threshold=None, max_cat_to_onehot=None,\n",
       "              max_delta_step=None, max_depth=[6, 7, 8], max_leaves=None,\n",
       "              min_child_weight=None, missing=nan, monotone_constraints=None,\n",
       "              n_estimators=[50, 100, 200], n_jobs=None, num_parallel_tree=None, ...)</pre><b>In a Jupyter environment, please rerun this cell to show the HTML representation or trust the notebook. <br />On GitHub, the HTML representation is unable to render, please try loading this page with nbviewer.org.</b></div><div class=\"sk-container\" hidden><div class=\"sk-item\"><div class=\"sk-estimator sk-toggleable\"><input class=\"sk-toggleable__control sk-hidden--visually\" id=\"sk-estimator-id-1\" type=\"checkbox\" checked><label for=\"sk-estimator-id-1\" class=\"sk-toggleable__label sk-toggleable__label-arrow\">XGBClassifier</label><div class=\"sk-toggleable__content\"><pre>XGBClassifier(alpha=[0, 1, 5], base_score=None, booster=None, callbacks=None,\n",
       "              colsample_bylevel=None, colsample_bynode=None,\n",
       "              colsample_bytree=[0.5, 1.0], early_stopping_rounds=None,\n",
       "              enable_categorical=False, eval_metric=None, feature_types=None,\n",
       "              gamma=[0.5, 1, 2], gpu_id=1, grow_policy=None,\n",
       "              importance_type=None, interaction_constraints=None,\n",
       "              lambda=[0, 1, 5], learning_rate=[0.1], max_bin=None,\n",
       "              max_cat_threshold=None, max_cat_to_onehot=None,\n",
       "              max_delta_step=None, max_depth=[6, 7, 8], max_leaves=None,\n",
       "              min_child_weight=None, missing=nan, monotone_constraints=None,\n",
       "              n_estimators=[50, 100, 200], n_jobs=None, num_parallel_tree=None, ...)</pre></div></div></div></div></div>"
      ],
      "text/plain": [
       "XGBClassifier(alpha=[0, 1, 5], base_score=None, booster=None, callbacks=None,\n",
       "              colsample_bylevel=None, colsample_bynode=None,\n",
       "              colsample_bytree=[0.5, 1.0], early_stopping_rounds=None,\n",
       "              enable_categorical=False, eval_metric=None, feature_types=None,\n",
       "              gamma=[0.5, 1, 2], gpu_id=1, grow_policy=None,\n",
       "              importance_type=None, interaction_constraints=None,\n",
       "              lambda=[0, 1, 5], learning_rate=[0.1], max_bin=None,\n",
       "              max_cat_threshold=None, max_cat_to_onehot=None,\n",
       "              max_delta_step=None, max_depth=[6, 7, 8], max_leaves=None,\n",
       "              min_child_weight=None, missing=nan, monotone_constraints=None,\n",
       "              n_estimators=[50, 100, 200], n_jobs=None, num_parallel_tree=None, ...)"
      ]
     },
     "execution_count": 5,
     "metadata": {},
     "output_type": "execute_result"
    }
   ],
   "source": [
    "X_train_full, X_test_full, y_train_full, y_test_full = train_test_split(df_pih, y_pih, test_size=0.20, shuffle=True)\n",
    "\n",
    "scaler = StandardScaler()\n",
    "feature = X_train_full.columns\n",
    "scaler.fit(X_train_full)\n",
    "X_train_t_scaled = pd.DataFrame(scaler.transform(X_train_full))\n",
    "X_test_t_scaled = pd.DataFrame(scaler.transform(X_test_full))\n",
    " \n",
    "def clf3():\n",
    "    rfc = RandomForestClassifier()\n",
    "    gb = GradientBoostingClassifier() \n",
    "    xg = XGBClassifier(tree_method='gpu_hist', gpu_id=1)\n",
    "  \n",
    "    return rfc, gb, xg\n",
    "\n",
    "xg_parameters ={\n",
    "    'max_depth' : [6,7,8], \n",
    "    'n_estimators': [50, 100, 200], \n",
    "    'learning_rate':[0.1], \n",
    "    'gamma': [0.5, 1, 2], \n",
    "    'alpha' : [0, 1, 5],\n",
    "    'subsample' : [0.5, 1.0],\n",
    "    'colsample_bytree' : [0.5, 1.0],\n",
    "    'lambda' : [0, 1, 5],\n",
    "}\n",
    "\n",
    "rfc, gb, xg = clf3()\n",
    "\n",
    "cluster = LocalCUDACluster()\n",
    "client = Client(cluster)\n",
    "\n",
    "xg.set_params(**xg_parameters)"
   ]
  },
  {
   "cell_type": "markdown",
   "id": "c47fe57f-cba9-4342-a2f1-75f6cd8191a2",
   "metadata": {
    "tags": []
   },
   "source": [
    "### DASK, XGBOOST, GRIDSEARCHCV"
   ]
  },
  {
   "cell_type": "code",
   "execution_count": 4,
   "id": "d3145b08-f91c-4a6a-ac8f-38044b101bff",
   "metadata": {},
   "outputs": [
    {
     "name": "stderr",
     "output_type": "stream",
     "text": [
      "2023-08-31 13:54:59,846 - distributed.preloading - INFO - Creating preload: dask_cuda.initialize\n",
      "2023-08-31 13:54:59,846 - distributed.preloading - INFO - Import preload module: dask_cuda.initialize\n",
      "2023-08-31 13:54:59,992 - distributed.preloading - INFO - Creating preload: dask_cuda.initialize\n",
      "2023-08-31 13:54:59,992 - distributed.preloading - INFO - Import preload module: dask_cuda.initialize\n",
      "2023-08-31 13:54:59,993 - distributed.preloading - INFO - Creating preload: dask_cuda.initialize\n",
      "2023-08-31 13:54:59,993 - distributed.preloading - INFO - Import preload module: dask_cuda.initialize\n"
     ]
    },
    {
     "ename": "NameError",
     "evalue": "name 'X_train_t_scaled' is not defined",
     "output_type": "error",
     "traceback": [
      "\u001b[0;31m---------------------------------------------------------------------------\u001b[0m",
      "\u001b[0;31mNameError\u001b[0m                                 Traceback (most recent call last)",
      "Cell \u001b[0;32mIn [4], line 4\u001b[0m\n\u001b[1;32m      1\u001b[0m cluster \u001b[38;5;241m=\u001b[39m LocalCUDACluster()\n\u001b[1;32m      2\u001b[0m client \u001b[38;5;241m=\u001b[39m Client(cluster)\n\u001b[0;32m----> 4\u001b[0m X_train_t_scaled_dask \u001b[38;5;241m=\u001b[39m dd\u001b[38;5;241m.\u001b[39mfrom_pandas(\u001b[43mX_train_t_scaled\u001b[49m, npartitions\u001b[38;5;241m=\u001b[39m\u001b[38;5;241m4\u001b[39m)\n\u001b[1;32m      5\u001b[0m y_train_dask \u001b[38;5;241m=\u001b[39m dd\u001b[38;5;241m.\u001b[39mfrom_pandas(y_train_full, npartitions\u001b[38;5;241m=\u001b[39m\u001b[38;5;241m4\u001b[39m)\n\u001b[1;32m      7\u001b[0m dtrain \u001b[38;5;241m=\u001b[39m dxgb\u001b[38;5;241m.\u001b[39mDaskDMatrix(client, X_train_t_scaled_dask, y_train_dask)\n",
      "\u001b[0;31mNameError\u001b[0m: name 'X_train_t_scaled' is not defined"
     ]
    }
   ],
   "source": [
    "cluster = LocalCUDACluster()\n",
    "client = Client(cluster)\n",
    "\n",
    "X_train_t_scaled_dask = dd.from_pandas(X_train_t_scaled, npartitions=4)\n",
    "y_train_dask = dd.from_pandas(y_train_full, npartitions=4)\n",
    "\n",
    "dtrain = dxgb.DaskDMatrix(client, X_train_t_scaled_dask, y_train_dask)\n",
    "output = xgboost.dask.train(client,\n",
    "                            {'verbosity': 2,\n",
    "                             'tree_method': 'gpu_hist',\n",
    "                             'objective': 'binary:logistic'},\n",
    "                            dtrain,\n",
    "                            num_boost_round=100,\n",
    "                            evals=[(dtrain, 'train')])\n",
    "\n",
    "grid_search = GridSearchCV ( estimator = xg,\n",
    "                            param_grid = xg_parameters,\n",
    "                            scoring = 'recall',\n",
    "                            cv = 10,\n",
    "                            vervose=2\n",
    "                            )\n",
    "\n",
    "grid_search.fit(X_train_t_scaled_dask.compute(), y_train_dask.compute())\n",
    "best_rfc = grid_search.best_estimator_\n",
    "best_rfc"
   ]
  },
  {
   "cell_type": "markdown",
   "id": "088381a1-94e2-4f8d-9859-a596e3f098aa",
   "metadata": {},
   "source": [
    "### DASK, XGBOOST, Bayesian Optimization"
   ]
  },
  {
   "cell_type": "code",
   "execution_count": null,
   "id": "3f84e29c-cd01-490a-ba9d-1160b3541b64",
   "metadata": {},
   "outputs": [],
   "source": []
  },
  {
   "cell_type": "markdown",
   "id": "ef941d4f-ac76-40c6-9cc7-b657e3ee33fd",
   "metadata": {},
   "source": [
    "## USE DASK GPU"
   ]
  },
  {
   "cell_type": "code",
   "execution_count": 6,
   "id": "ddba1a5f-0ca5-45b8-bbcb-09200d6e27a4",
   "metadata": {},
   "outputs": [
    {
     "name": "stderr",
     "output_type": "stream",
     "text": [
      "INFO:distributed.worker:Run out-of-band function '_start_tracker'\n",
      "[10:18:11] task [xgboost.dask-0]:tcp://127.0.0.1:32931 got new rank 0\n",
      "[10:18:11] task [xgboost.dask-1]:tcp://127.0.0.1:44731 got new rank 1\n",
      "[10:18:11] task [xgboost.dask-2]:tcp://127.0.0.1:45919 got new rank 2\n"
     ]
    },
    {
     "name": "stdout",
     "output_type": "stream",
     "text": [
      "[0]\ttrain-logloss:0.63066\n",
      "[1]\ttrain-logloss:0.59865\n",
      "[2]\ttrain-logloss:0.58084\n",
      "[3]\ttrain-logloss:0.57135\n",
      "[4]\ttrain-logloss:0.56580\n",
      "[5]\ttrain-logloss:0.56138\n",
      "[6]\ttrain-logloss:0.55938\n",
      "[7]\ttrain-logloss:0.55764\n",
      "[8]\ttrain-logloss:0.55634\n",
      "[9]\ttrain-logloss:0.55486\n",
      "[10]\ttrain-logloss:0.55251\n",
      "[11]\ttrain-logloss:0.55134\n",
      "[12]\ttrain-logloss:0.54977\n",
      "[13]\ttrain-logloss:0.54829\n",
      "[14]\ttrain-logloss:0.54668\n",
      "[15]\ttrain-logloss:0.54527\n",
      "[16]\ttrain-logloss:0.54330\n",
      "[17]\ttrain-logloss:0.54268\n",
      "[18]\ttrain-logloss:0.54105\n",
      "[19]\ttrain-logloss:0.53942\n",
      "[20]\ttrain-logloss:0.53816\n",
      "[21]\ttrain-logloss:0.53660\n",
      "[22]\ttrain-logloss:0.53544\n",
      "[23]\ttrain-logloss:0.53383\n",
      "[24]\ttrain-logloss:0.53196\n",
      "[25]\ttrain-logloss:0.53055\n",
      "[26]\ttrain-logloss:0.52918\n",
      "[27]\ttrain-logloss:0.52811\n",
      "[28]\ttrain-logloss:0.52727\n",
      "[29]\ttrain-logloss:0.52526\n",
      "[30]\ttrain-logloss:0.52385\n",
      "[31]\ttrain-logloss:0.52198\n",
      "[32]\ttrain-logloss:0.52129\n",
      "[33]\ttrain-logloss:0.51933\n",
      "[34]\ttrain-logloss:0.51801\n",
      "[35]\ttrain-logloss:0.51605\n",
      "[36]\ttrain-logloss:0.51456\n",
      "[37]\ttrain-logloss:0.51350\n",
      "[38]\ttrain-logloss:0.51174\n",
      "[39]\ttrain-logloss:0.51094\n",
      "[40]\ttrain-logloss:0.51001\n",
      "[41]\ttrain-logloss:0.50803\n",
      "[42]\ttrain-logloss:0.50614\n",
      "[43]\ttrain-logloss:0.50437\n",
      "[44]\ttrain-logloss:0.50297\n",
      "[45]\ttrain-logloss:0.50190\n",
      "[46]\ttrain-logloss:0.50048\n",
      "[47]\ttrain-logloss:0.49862\n",
      "[48]\ttrain-logloss:0.49663\n",
      "[49]\ttrain-logloss:0.49522\n",
      "[50]\ttrain-logloss:0.49445\n",
      "[51]\ttrain-logloss:0.49292\n",
      "[52]\ttrain-logloss:0.49212\n",
      "[53]\ttrain-logloss:0.49168\n",
      "[54]\ttrain-logloss:0.49084\n",
      "[55]\ttrain-logloss:0.48905\n",
      "[56]\ttrain-logloss:0.48781\n",
      "[57]\ttrain-logloss:0.48587\n",
      "[58]\ttrain-logloss:0.48450\n",
      "[59]\ttrain-logloss:0.48332\n",
      "[60]\ttrain-logloss:0.48193\n",
      "[61]\ttrain-logloss:0.48096\n",
      "[62]\ttrain-logloss:0.48034\n",
      "[63]\ttrain-logloss:0.47946\n",
      "[64]\ttrain-logloss:0.47829\n",
      "[65]\ttrain-logloss:0.47689\n",
      "[66]\ttrain-logloss:0.47514\n",
      "[67]\ttrain-logloss:0.47369\n",
      "[68]\ttrain-logloss:0.47242\n",
      "[69]\ttrain-logloss:0.47131\n",
      "[70]\ttrain-logloss:0.47002\n",
      "[71]\ttrain-logloss:0.46936\n",
      "[72]\ttrain-logloss:0.46889\n",
      "[73]\ttrain-logloss:0.46741\n",
      "[74]\ttrain-logloss:0.46585\n",
      "[75]\ttrain-logloss:0.46505\n",
      "[76]\ttrain-logloss:0.46486\n",
      "[77]\ttrain-logloss:0.46386\n",
      "[78]\ttrain-logloss:0.46339\n",
      "[79]\ttrain-logloss:0.46197\n",
      "[80]\ttrain-logloss:0.46031\n",
      "[81]\ttrain-logloss:0.45874\n",
      "[82]\ttrain-logloss:0.45738\n",
      "[83]\ttrain-logloss:0.45616\n",
      "[84]\ttrain-logloss:0.45482\n",
      "[85]\ttrain-logloss:0.45412\n",
      "[86]\ttrain-logloss:0.45274\n",
      "[87]\ttrain-logloss:0.45137\n",
      "[88]\ttrain-logloss:0.45026\n",
      "[89]\ttrain-logloss:0.44901\n",
      "[90]\ttrain-logloss:0.44741\n",
      "[91]\ttrain-logloss:0.44655\n",
      "[92]\ttrain-logloss:0.44538\n",
      "[93]\ttrain-logloss:0.44373\n",
      "[94]\ttrain-logloss:0.44264\n",
      "[95]\ttrain-logloss:0.44145\n",
      "[96]\ttrain-logloss:0.43965\n",
      "[97]\ttrain-logloss:0.43865\n",
      "[98]\ttrain-logloss:0.43687\n",
      "[99]\ttrain-logloss:0.43592\n"
     ]
    },
    {
     "ename": "NameError",
     "evalue": "name 'grid_search' is not defined",
     "output_type": "error",
     "traceback": [
      "\u001b[0;31m---------------------------------------------------------------------------\u001b[0m",
      "\u001b[0;31mNameError\u001b[0m                                 Traceback (most recent call last)",
      "Cell \u001b[0;32mIn [6], line 21\u001b[0m\n\u001b[1;32m     13\u001b[0m clf \u001b[38;5;241m=\u001b[39m dcv\u001b[38;5;241m.\u001b[39mGridSearchCV(estimator\u001b[38;5;241m=\u001b[39m xg, \n\u001b[1;32m     14\u001b[0m                        param_grid \u001b[38;5;241m=\u001b[39m xg_parameters, \n\u001b[1;32m     15\u001b[0m                        scoring \u001b[38;5;241m=\u001b[39m \u001b[38;5;124m'\u001b[39m\u001b[38;5;124mrecall\u001b[39m\u001b[38;5;124m'\u001b[39m, \n\u001b[1;32m     16\u001b[0m                        cv\u001b[38;5;241m=\u001b[39m \u001b[38;5;241m10\u001b[39m, \n\u001b[1;32m     17\u001b[0m                        scheduler\u001b[38;5;241m=\u001b[39mclient\n\u001b[1;32m     18\u001b[0m                       )\n\u001b[1;32m     20\u001b[0m clf\u001b[38;5;241m.\u001b[39mfit(X_train_t_scaled_dask\u001b[38;5;241m.\u001b[39mcompute(), y_train_dask\u001b[38;5;241m.\u001b[39mcompute())\n\u001b[0;32m---> 21\u001b[0m best_rfc \u001b[38;5;241m=\u001b[39m \u001b[43mgrid_search\u001b[49m\u001b[38;5;241m.\u001b[39mbest_estimator_\n\u001b[1;32m     22\u001b[0m best_rfc\n",
      "\u001b[0;31mNameError\u001b[0m: name 'grid_search' is not defined"
     ]
    }
   ],
   "source": [
    "X_train_t_scaled_dask = dd.from_pandas(X_train_t_scaled, npartitions=4)\n",
    "y_train_dask = dd.from_pandas(y_train_full, npartitions=4)\n",
    "\n",
    "dtrain = dxgb.DaskDMatrix(client, X_train_t_scaled_dask, y_train_dask)\n",
    "output = xgboost.dask.train(client,\n",
    "                            {'verbosity': 2,\n",
    "                             'tree_method': 'gpu_hist',\n",
    "                             'objective': 'binary:logistic'},\n",
    "                            dtrain,\n",
    "                            num_boost_round=100,\n",
    "                            evals=[(dtrain, 'train')])\n",
    "\n",
    "clf = dcv.GridSearchCV(estimator= xg, \n",
    "                       param_grid = xg_parameters, \n",
    "                       scoring = 'recall', \n",
    "                       cv= 10, \n",
    "                       scheduler=client\n",
    "                      )\n",
    "\n",
    "clf.fit(X_train_t_scaled_dask.compute(), y_train_dask.compute())\n",
    "best_rfc = clf.best_estimator_\n",
    "best_rfc"
   ]
  },
  {
   "cell_type": "code",
   "execution_count": 14,
   "id": "e3c767fb-69ad-4e43-bfbf-d8754ae49a03",
   "metadata": {},
   "outputs": [
    {
     "data": {
      "text/html": [
       "<style>#sk-container-id-5 {color: black;}#sk-container-id-5 pre{padding: 0;}#sk-container-id-5 div.sk-toggleable {background-color: white;}#sk-container-id-5 label.sk-toggleable__label {cursor: pointer;display: block;width: 100%;margin-bottom: 0;padding: 0.3em;box-sizing: border-box;text-align: center;}#sk-container-id-5 label.sk-toggleable__label-arrow:before {content: \"▸\";float: left;margin-right: 0.25em;color: #696969;}#sk-container-id-5 label.sk-toggleable__label-arrow:hover:before {color: black;}#sk-container-id-5 div.sk-estimator:hover label.sk-toggleable__label-arrow:before {color: black;}#sk-container-id-5 div.sk-toggleable__content {max-height: 0;max-width: 0;overflow: hidden;text-align: left;background-color: #f0f8ff;}#sk-container-id-5 div.sk-toggleable__content pre {margin: 0.2em;color: black;border-radius: 0.25em;background-color: #f0f8ff;}#sk-container-id-5 input.sk-toggleable__control:checked~div.sk-toggleable__content {max-height: 200px;max-width: 100%;overflow: auto;}#sk-container-id-5 input.sk-toggleable__control:checked~label.sk-toggleable__label-arrow:before {content: \"▾\";}#sk-container-id-5 div.sk-estimator input.sk-toggleable__control:checked~label.sk-toggleable__label {background-color: #d4ebff;}#sk-container-id-5 div.sk-label input.sk-toggleable__control:checked~label.sk-toggleable__label {background-color: #d4ebff;}#sk-container-id-5 input.sk-hidden--visually {border: 0;clip: rect(1px 1px 1px 1px);clip: rect(1px, 1px, 1px, 1px);height: 1px;margin: -1px;overflow: hidden;padding: 0;position: absolute;width: 1px;}#sk-container-id-5 div.sk-estimator {font-family: monospace;background-color: #f0f8ff;border: 1px dotted black;border-radius: 0.25em;box-sizing: border-box;margin-bottom: 0.5em;}#sk-container-id-5 div.sk-estimator:hover {background-color: #d4ebff;}#sk-container-id-5 div.sk-parallel-item::after {content: \"\";width: 100%;border-bottom: 1px solid gray;flex-grow: 1;}#sk-container-id-5 div.sk-label:hover label.sk-toggleable__label {background-color: #d4ebff;}#sk-container-id-5 div.sk-serial::before {content: \"\";position: absolute;border-left: 1px solid gray;box-sizing: border-box;top: 0;bottom: 0;left: 50%;z-index: 0;}#sk-container-id-5 div.sk-serial {display: flex;flex-direction: column;align-items: center;background-color: white;padding-right: 0.2em;padding-left: 0.2em;position: relative;}#sk-container-id-5 div.sk-item {position: relative;z-index: 1;}#sk-container-id-5 div.sk-parallel {display: flex;align-items: stretch;justify-content: center;background-color: white;position: relative;}#sk-container-id-5 div.sk-item::before, #sk-container-id-5 div.sk-parallel-item::before {content: \"\";position: absolute;border-left: 1px solid gray;box-sizing: border-box;top: 0;bottom: 0;left: 50%;z-index: -1;}#sk-container-id-5 div.sk-parallel-item {display: flex;flex-direction: column;z-index: 1;position: relative;background-color: white;}#sk-container-id-5 div.sk-parallel-item:first-child::after {align-self: flex-end;width: 50%;}#sk-container-id-5 div.sk-parallel-item:last-child::after {align-self: flex-start;width: 50%;}#sk-container-id-5 div.sk-parallel-item:only-child::after {width: 0;}#sk-container-id-5 div.sk-dashed-wrapped {border: 1px dashed gray;margin: 0 0.4em 0.5em 0.4em;box-sizing: border-box;padding-bottom: 0.4em;background-color: white;}#sk-container-id-5 div.sk-label label {font-family: monospace;font-weight: bold;display: inline-block;line-height: 1.2em;}#sk-container-id-5 div.sk-label-container {text-align: center;}#sk-container-id-5 div.sk-container {/* jupyter's `normalize.less` sets `[hidden] { display: none; }` but bootstrap.min.css set `[hidden] { display: none !important; }` so we also need the `!important` here to be able to override the default hidden behavior on the sphinx rendered scikit-learn.org. See: https://github.com/scikit-learn/scikit-learn/issues/21755 */display: inline-block !important;position: relative;}#sk-container-id-5 div.sk-text-repr-fallback {display: none;}</style><div id=\"sk-container-id-5\" class=\"sk-top-container\"><div class=\"sk-text-repr-fallback\"><pre>XGBClassifier(alpha=0, base_score=None, booster=None, callbacks=None,\n",
       "              colsample_bylevel=None, colsample_bynode=None,\n",
       "              colsample_bytree=1.0, early_stopping_rounds=None,\n",
       "              enable_categorical=False, eval_metric=None, feature_types=None,\n",
       "              gamma=1, gpu_id=1, grow_policy=None, importance_type=None,\n",
       "              interaction_constraints=None, lambda=0, learning_rate=0.1,\n",
       "              max_bin=None, max_cat_threshold=None, max_cat_to_onehot=None,\n",
       "              max_delta_step=None, max_depth=8, max_leaves=None,\n",
       "              min_child_weight=None, missing=nan, monotone_constraints=None,\n",
       "              n_estimators=200, n_jobs=None, num_parallel_tree=None, ...)</pre><b>In a Jupyter environment, please rerun this cell to show the HTML representation or trust the notebook. <br />On GitHub, the HTML representation is unable to render, please try loading this page with nbviewer.org.</b></div><div class=\"sk-container\" hidden><div class=\"sk-item\"><div class=\"sk-estimator sk-toggleable\"><input class=\"sk-toggleable__control sk-hidden--visually\" id=\"sk-estimator-id-5\" type=\"checkbox\" checked><label for=\"sk-estimator-id-5\" class=\"sk-toggleable__label sk-toggleable__label-arrow\">XGBClassifier</label><div class=\"sk-toggleable__content\"><pre>XGBClassifier(alpha=0, base_score=None, booster=None, callbacks=None,\n",
       "              colsample_bylevel=None, colsample_bynode=None,\n",
       "              colsample_bytree=1.0, early_stopping_rounds=None,\n",
       "              enable_categorical=False, eval_metric=None, feature_types=None,\n",
       "              gamma=1, gpu_id=1, grow_policy=None, importance_type=None,\n",
       "              interaction_constraints=None, lambda=0, learning_rate=0.1,\n",
       "              max_bin=None, max_cat_threshold=None, max_cat_to_onehot=None,\n",
       "              max_delta_step=None, max_depth=8, max_leaves=None,\n",
       "              min_child_weight=None, missing=nan, monotone_constraints=None,\n",
       "              n_estimators=200, n_jobs=None, num_parallel_tree=None, ...)</pre></div></div></div></div></div>"
      ],
      "text/plain": [
       "XGBClassifier(alpha=0, base_score=None, booster=None, callbacks=None,\n",
       "              colsample_bylevel=None, colsample_bynode=None,\n",
       "              colsample_bytree=1.0, early_stopping_rounds=None,\n",
       "              enable_categorical=False, eval_metric=None, feature_types=None,\n",
       "              gamma=1, gpu_id=1, grow_policy=None, importance_type=None,\n",
       "              interaction_constraints=None, lambda=0, learning_rate=0.1,\n",
       "              max_bin=None, max_cat_threshold=None, max_cat_to_onehot=None,\n",
       "              max_delta_step=None, max_depth=8, max_leaves=None,\n",
       "              min_child_weight=None, missing=nan, monotone_constraints=None,\n",
       "              n_estimators=200, n_jobs=None, num_parallel_tree=None, ...)"
      ]
     },
     "execution_count": 14,
     "metadata": {},
     "output_type": "execute_result"
    }
   ],
   "source": [
    "best_rfc = clf.best_estimator_\n",
    "best_rfc"
   ]
  },
  {
   "cell_type": "code",
   "execution_count": 27,
   "id": "0a270451-fa72-478e-93d1-f5661fba790e",
   "metadata": {},
   "outputs": [
    {
     "data": {
      "text/plain": [
       "29513    0\n",
       "15657    1\n",
       "69786    1\n",
       "41597    1\n",
       "39624    1\n",
       "        ..\n",
       "57042    0\n",
       "36008    0\n",
       "46265    0\n",
       "23587    0\n",
       "29313    0\n",
       "Name: Hypotension, Length: 57178, dtype: int64"
      ]
     },
     "execution_count": 27,
     "metadata": {},
     "output_type": "execute_result"
    }
   ],
   "source": [
    "X_train_full, X_test_full, y_train_full, y_test_full = train_test_split(df_pih, y_pih, test_size=0.20, shuffle=True, random_state=99)\n",
    "\n",
    "del X_train_full['Hypotension']\n",
    "del X_train_full['Hypotension_Time(minute)']\n",
    "del X_train_full['Hypotension_Area']\n",
    "del X_train_full['PIH_Gr']\n",
    "del X_train_full['PIH_Gr1']\n",
    "del X_train_full['PIH_Gr2']\n",
    "del X_train_full['PIH_Gr3']\n",
    "del X_train_full['area_time']\n",
    "del X_train_full['MBP_Max']\n",
    "del X_train_full['MBP_Mean']\n",
    "del X_train_full['MBP_Min']\n",
    "\n",
    "del X_test_full['Hypotension']\n",
    "del X_test_full['Hypotension_Time(minute)']\n",
    "del X_test_full['Hypotension_Area']\n",
    "del X_test_full['PIH_Gr']\n",
    "del X_test_full['PIH_Gr1']\n",
    "del X_test_full['PIH_Gr2']\n",
    "del X_test_full['PIH_Gr3']\n",
    "del X_test_full['area_time']\n",
    "del X_test_full['MBP_Max']\n",
    "del X_test_full['MBP_Mean']\n",
    "del X_test_full['MBP_Min']\n",
    "\n",
    "scaler = StandardScaler()\n",
    "feature = X_train_full.columns\n",
    "scaler.fit(X_train_full)\n",
    "X_train_t_scaled = pd.DataFrame(scaler.transform(X_train_full))\n",
    "X_test_t_scaled = pd.DataFrame(scaler.transform(X_test_full))\n",
    "\n",
    "len(X_train_t_scaled)\n",
    "len(X_test_t_scaled)\n",
    "len(df_pih)\n",
    "y_train_full"
   ]
  },
  {
   "cell_type": "code",
   "execution_count": 31,
   "id": "938a7f35-d449-4589-a8e5-b5fd796608d8",
   "metadata": {},
   "outputs": [
    {
     "data": {
      "text/html": [
       "<style>#sk-container-id-6 {color: black;}#sk-container-id-6 pre{padding: 0;}#sk-container-id-6 div.sk-toggleable {background-color: white;}#sk-container-id-6 label.sk-toggleable__label {cursor: pointer;display: block;width: 100%;margin-bottom: 0;padding: 0.3em;box-sizing: border-box;text-align: center;}#sk-container-id-6 label.sk-toggleable__label-arrow:before {content: \"▸\";float: left;margin-right: 0.25em;color: #696969;}#sk-container-id-6 label.sk-toggleable__label-arrow:hover:before {color: black;}#sk-container-id-6 div.sk-estimator:hover label.sk-toggleable__label-arrow:before {color: black;}#sk-container-id-6 div.sk-toggleable__content {max-height: 0;max-width: 0;overflow: hidden;text-align: left;background-color: #f0f8ff;}#sk-container-id-6 div.sk-toggleable__content pre {margin: 0.2em;color: black;border-radius: 0.25em;background-color: #f0f8ff;}#sk-container-id-6 input.sk-toggleable__control:checked~div.sk-toggleable__content {max-height: 200px;max-width: 100%;overflow: auto;}#sk-container-id-6 input.sk-toggleable__control:checked~label.sk-toggleable__label-arrow:before {content: \"▾\";}#sk-container-id-6 div.sk-estimator input.sk-toggleable__control:checked~label.sk-toggleable__label {background-color: #d4ebff;}#sk-container-id-6 div.sk-label input.sk-toggleable__control:checked~label.sk-toggleable__label {background-color: #d4ebff;}#sk-container-id-6 input.sk-hidden--visually {border: 0;clip: rect(1px 1px 1px 1px);clip: rect(1px, 1px, 1px, 1px);height: 1px;margin: -1px;overflow: hidden;padding: 0;position: absolute;width: 1px;}#sk-container-id-6 div.sk-estimator {font-family: monospace;background-color: #f0f8ff;border: 1px dotted black;border-radius: 0.25em;box-sizing: border-box;margin-bottom: 0.5em;}#sk-container-id-6 div.sk-estimator:hover {background-color: #d4ebff;}#sk-container-id-6 div.sk-parallel-item::after {content: \"\";width: 100%;border-bottom: 1px solid gray;flex-grow: 1;}#sk-container-id-6 div.sk-label:hover label.sk-toggleable__label {background-color: #d4ebff;}#sk-container-id-6 div.sk-serial::before {content: \"\";position: absolute;border-left: 1px solid gray;box-sizing: border-box;top: 0;bottom: 0;left: 50%;z-index: 0;}#sk-container-id-6 div.sk-serial {display: flex;flex-direction: column;align-items: center;background-color: white;padding-right: 0.2em;padding-left: 0.2em;position: relative;}#sk-container-id-6 div.sk-item {position: relative;z-index: 1;}#sk-container-id-6 div.sk-parallel {display: flex;align-items: stretch;justify-content: center;background-color: white;position: relative;}#sk-container-id-6 div.sk-item::before, #sk-container-id-6 div.sk-parallel-item::before {content: \"\";position: absolute;border-left: 1px solid gray;box-sizing: border-box;top: 0;bottom: 0;left: 50%;z-index: -1;}#sk-container-id-6 div.sk-parallel-item {display: flex;flex-direction: column;z-index: 1;position: relative;background-color: white;}#sk-container-id-6 div.sk-parallel-item:first-child::after {align-self: flex-end;width: 50%;}#sk-container-id-6 div.sk-parallel-item:last-child::after {align-self: flex-start;width: 50%;}#sk-container-id-6 div.sk-parallel-item:only-child::after {width: 0;}#sk-container-id-6 div.sk-dashed-wrapped {border: 1px dashed gray;margin: 0 0.4em 0.5em 0.4em;box-sizing: border-box;padding-bottom: 0.4em;background-color: white;}#sk-container-id-6 div.sk-label label {font-family: monospace;font-weight: bold;display: inline-block;line-height: 1.2em;}#sk-container-id-6 div.sk-label-container {text-align: center;}#sk-container-id-6 div.sk-container {/* jupyter's `normalize.less` sets `[hidden] { display: none; }` but bootstrap.min.css set `[hidden] { display: none !important; }` so we also need the `!important` here to be able to override the default hidden behavior on the sphinx rendered scikit-learn.org. See: https://github.com/scikit-learn/scikit-learn/issues/21755 */display: inline-block !important;position: relative;}#sk-container-id-6 div.sk-text-repr-fallback {display: none;}</style><div id=\"sk-container-id-6\" class=\"sk-top-container\"><div class=\"sk-text-repr-fallback\"><pre>XGBClassifier(alpha=1, base_score=None, booster=None, callbacks=None,\n",
       "              colsample_bylevel=None, colsample_bynode=None,\n",
       "              colsample_bytree=None, early_stopping_rounds=None,\n",
       "              enable_categorical=False, eval_metric=None, feature_types=None,\n",
       "              gamma=0, gpu_id=1, grow_policy=None, importance_type=None,\n",
       "              interaction_constraints=None, learning_rate=0.1, max_bin=None,\n",
       "              max_cat_threshold=None, max_cat_to_onehot=None,\n",
       "              max_delta_step=None, max_depth=8, max_leaves=None,\n",
       "              min_child_weight=1, missing=nan, monotone_constraints=None,\n",
       "              n_estimators=200, n_jobs=None, num_parallel_tree=None,\n",
       "              predictor=None, ...)</pre><b>In a Jupyter environment, please rerun this cell to show the HTML representation or trust the notebook. <br />On GitHub, the HTML representation is unable to render, please try loading this page with nbviewer.org.</b></div><div class=\"sk-container\" hidden><div class=\"sk-item\"><div class=\"sk-estimator sk-toggleable\"><input class=\"sk-toggleable__control sk-hidden--visually\" id=\"sk-estimator-id-6\" type=\"checkbox\" checked><label for=\"sk-estimator-id-6\" class=\"sk-toggleable__label sk-toggleable__label-arrow\">XGBClassifier</label><div class=\"sk-toggleable__content\"><pre>XGBClassifier(alpha=1, base_score=None, booster=None, callbacks=None,\n",
       "              colsample_bylevel=None, colsample_bynode=None,\n",
       "              colsample_bytree=None, early_stopping_rounds=None,\n",
       "              enable_categorical=False, eval_metric=None, feature_types=None,\n",
       "              gamma=0, gpu_id=1, grow_policy=None, importance_type=None,\n",
       "              interaction_constraints=None, learning_rate=0.1, max_bin=None,\n",
       "              max_cat_threshold=None, max_cat_to_onehot=None,\n",
       "              max_delta_step=None, max_depth=8, max_leaves=None,\n",
       "              min_child_weight=1, missing=nan, monotone_constraints=None,\n",
       "              n_estimators=200, n_jobs=None, num_parallel_tree=None,\n",
       "              predictor=None, ...)</pre></div></div></div></div></div>"
      ],
      "text/plain": [
       "XGBClassifier(alpha=1, base_score=None, booster=None, callbacks=None,\n",
       "              colsample_bylevel=None, colsample_bynode=None,\n",
       "              colsample_bytree=None, early_stopping_rounds=None,\n",
       "              enable_categorical=False, eval_metric=None, feature_types=None,\n",
       "              gamma=0, gpu_id=1, grow_policy=None, importance_type=None,\n",
       "              interaction_constraints=None, learning_rate=0.1, max_bin=None,\n",
       "              max_cat_threshold=None, max_cat_to_onehot=None,\n",
       "              max_delta_step=None, max_depth=8, max_leaves=None,\n",
       "              min_child_weight=1, missing=nan, monotone_constraints=None,\n",
       "              n_estimators=200, n_jobs=None, num_parallel_tree=None,\n",
       "              predictor=None, ...)"
      ]
     },
     "execution_count": 31,
     "metadata": {},
     "output_type": "execute_result"
    }
   ],
   "source": [
    "pih_t_xgb = xgb.XGBClassifier(\n",
    "    reg_lambda=1,\n",
    "    alpha=1,\n",
    "    gamma=0,\n",
    "    learning_rate=0.1,\n",
    "    max_depth=8,\n",
    "    min_child_weight=1,\n",
    "    n_estimators=200, \n",
    "    tree_method='gpu_hist', gpu_id=1)\n",
    "\n",
    "pih_t_xgb.fit(X=X_train_t_scaled, y=y_train_full, verbose=2)"
   ]
  },
  {
   "cell_type": "code",
   "execution_count": 32,
   "id": "2bc15c61-ae47-4c47-9c20-f4234d71bc2e",
   "metadata": {},
   "outputs": [
    {
     "data": {
      "image/png": "[encoded data removed]",
      "text/plain": [
       "<Figure size 800x600 with 2 Axes>"
      ]
     },
     "metadata": {},
     "output_type": "display_data"
    }
   ],
   "source": [
    "from sklearn.metrics import confusion_matrix\n",
    "import numpy as np\n",
    "import matplotlib.pyplot as plt\n",
    "import seaborn as sns\n",
    "\n",
    "# y_test_pred_t = best_rfc.predict(X_test_t_scaled)\n",
    "y_test_pred_t = pih_t_xgb.predict(X_test_t_scaled)\n",
    "conf_mat = confusion_matrix(y_test_full, y_test_pred_t)\n",
    "conf_mat_normalized = conf_mat.astype('float') / conf_mat.sum(axis=1)[:, np.newaxis]\n",
    "\n",
    "# heatmap으로 표현\n",
    "plt.figure(figsize=(8, 6))\n",
    "sns.heatmap(conf_mat_normalized, annot=True, cmap='Blues', fmt='.2f', xticklabels=[0, 1, 2, 3], yticklabels=[0, 1, 2, 3])\n",
    "plt.xlabel('Predicted')\n",
    "plt.ylabel('Actual')\n",
    "plt.title('Confusion Matrix Heatmap')\n",
    "plt.show()"
   ]
  },
  {
   "cell_type": "code",
   "execution_count": 2,
   "id": "6b2f5fba-7a13-4327-878c-9da3168f4f86",
   "metadata": {},
   "outputs": [
    {
     "data": {
      "text/plain": [
       "689.51"
      ]
     },
     "execution_count": 2,
     "metadata": {},
     "output_type": "execute_result"
    }
   ],
   "source": [
    "3629*0.19"
   ]
  }
 ],
 "metadata": {
  "kernelspec": {
   "display_name": "Python 3 (ipykernel)",
   "language": "python",
   "name": "python3"
  },
  "language_info": {
   "codemirror_mode": {
    "name": "ipython",
    "version": 3
   },
   "file_extension": ".py",
   "mimetype": "text/x-python",
   "name": "python",
   "nbconvert_exporter": "python",
   "pygments_lexer": "ipython3",
   "version": "3.8.15"
  }
 },
 "nbformat": 4,
 "nbformat_minor": 5
}
